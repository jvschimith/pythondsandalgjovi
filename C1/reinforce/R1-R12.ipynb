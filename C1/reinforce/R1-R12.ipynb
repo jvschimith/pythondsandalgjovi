{
 "cells": [
  {
   "cell_type": "markdown",
   "id": "c251db67",
   "metadata": {},
   "source": [
    " ## Exercises\n",
    " For help with exercises, please visit the site, www.wiley.com/college/goodrich.\n",
    " Reinforcement\n",
    "\n",
    " R-1.1 Write a short Python function, is multiple(n, m), that takes two integer\n",
    " values and returns True if n is a multiple of m, that is,n = mi for some\n",
    " integer i,andFalse otherwise.\n",
    "\n",
    " R-1.2 Write a short Python function, is even(k), that takes an integer value and\n",
    " returns True if k is even, and False otherwise. However, your function\n",
    " cannot use the multiplication, modulo, or division operators.\n",
    "\n",
    " R-1.3 Write a short Python function, minmax(data), that takes a sequence of\n",
    " one or more numbers, and returns the smallest and largest numbers, in the\n",
    " form of a tuple of length two. Do not use the built-in functions min or\n",
    " max in implementing your solution.\n",
    "\n",
    " R-1.4 Write a short Python function that takes a positive integer n and returns\n",
    " the sum of the squares of all the positive integers smaller than n.\n",
    "\n",
    " R-1.5 Give a single command that computes the sum from Exercise R-1.4, rely\n",
    "ing on Python’s comprehension syntax and the built-in sum function.\n",
    "\n",
    " R-1.6 Write a short Python function that takes a positive integer n and returns\n",
    " the sum of the squares of all the odd positive integers smaller than n.\n",
    "\n",
    " R-1.7 Give a single command that computes the sum from Exercise R-1.6, rely\n",
    "ing on Python’s comprehension syntax and the built-in sum function.\n",
    "\n",
    " R-1.8 Python allows negative integers to be used as indices into a sequence,\n",
    " such as a string. If string s has length n, and expression s[k] is used for in\n",
    "dex −n≤k<0,whatistheequivalent index j≥0such thats[j] references\n",
    " the same element?\n",
    "\n",
    " R-1.9 What parameters should be sent to the range constructor, to produce a\n",
    " range with values 50, 60, 70, 80?\n",
    "\n",
    " R-1.10 What parameters should be sent to the range constructor, to produce a\n",
    " range with values 8, 6, 4, 2, 0, −2, −4, −6, −8?\n",
    "\n",
    " R-1.11 Demonstrate how to use Python’s list comprehension syntax to produce\n",
    " the list [1, 2, 4, 8, 16, 32, 64, 128, 256].\n",
    " \n",
    " R-1.12 Python’s random module includes a function choice(data) that returns a\n",
    " random element from a non-empty sequence. The random module in\n",
    "cludes a more basic function randrange, with parameterization similar to\n",
    " the built-in range function, that return a random choice from the given\n",
    " range. Using only the randrange function, implement your own version\n",
    " of the choice function"
   ]
  },
  {
   "cell_type": "markdown",
   "id": "5ca3626e",
   "metadata": {},
   "source": []
  },
  {
   "cell_type": "code",
   "execution_count": 11,
   "id": "661e3a86",
   "metadata": {},
   "outputs": [
    {
     "data": {
      "text/plain": [
       "False"
      ]
     },
     "execution_count": 11,
     "metadata": {},
     "output_type": "execute_result"
    }
   ],
   "source": [
    "#Exercise R-1.1\n",
    "\n",
    "n = int(input())\n",
    "m = int(input())\n",
    "\n",
    "def is_multiple(n, m):\n",
    "    if((n%m==0)):\n",
    "        return True\n",
    "        print(\"True\")\n",
    "    else:\n",
    "        return False\n",
    "        print(\"False\")\n",
    "\n",
    "is_multiple(n, m)"
   ]
  },
  {
   "cell_type": "code",
   "execution_count": 2,
   "id": "d1fe4bf7",
   "metadata": {},
   "outputs": [
    {
     "data": {
      "text/plain": [
       "False"
      ]
     },
     "execution_count": 2,
     "metadata": {},
     "output_type": "execute_result"
    }
   ],
   "source": [
    "def is_even(k):\n",
    "    if(k%2==0):\n",
    "        return True\n",
    "        print(\"True\")\n",
    "    else:\n",
    "        return False\n",
    "        print(\"False\")\n",
    "\n",
    "is_even(11)"
   ]
  },
  {
   "cell_type": "code",
   "execution_count": 1,
   "id": "9c643ddc",
   "metadata": {},
   "outputs": [
    {
     "name": "stdout",
     "output_type": "stream",
     "text": [
      "2\n",
      "4\n"
     ]
    },
    {
     "data": {
      "text/plain": [
       "(None, None)"
      ]
     },
     "execution_count": 1,
     "metadata": {},
     "output_type": "execute_result"
    }
   ],
   "source": [
    "input_list = input(\"Enter numbers separated by spaces: \")\n",
    "input_data = [int(x) for x in input_list.split()]\n",
    "\n",
    "def minmax(data):\n",
    "    for i in range (len(data)):\n",
    "        if i == 0:\n",
    "            min_value = data[i]\n",
    "            max_value = data[i]\n",
    "        elif data[i] < min_value:\n",
    "            min_value = data[i]\n",
    "        elif data[i] > max_value:\n",
    "            max_value = data[i]\n",
    "        \n",
    "    return print(min_value), print(max_value)\n",
    "\n",
    "minmax(input_data)\n"
   ]
  },
  {
   "cell_type": "code",
   "execution_count": null,
   "id": "104d7b74",
   "metadata": {},
   "outputs": [
    {
     "name": "stdout",
     "output_type": "stream",
     "text": [
      "204\n"
     ]
    }
   ],
   "source": [
    "def sum_squares(n):\n",
    "    sum = 0\n",
    "    for i in range(1, n+1):\n",
    "        sum += i**2 #Percorre os numeros de 1 a n e soma os quadrados\n",
    "    return print(sum) \n",
    "\n",
    "n = int(input(\"Enter a number: \"))\n",
    "sum_squares(n)\n",
    "\n"
   ]
  },
  {
   "cell_type": "code",
   "execution_count": 13,
   "id": "5a7e54e6",
   "metadata": {},
   "outputs": [
    {
     "name": "stdout",
     "output_type": "stream",
     "text": [
      "d\n",
      "d\n"
     ]
    }
   ],
   "source": [
    "minhastring = \"hello world!\"\n",
    "print(minhastring[-2])\n",
    "print(minhastring[10])"
   ]
  },
  {
   "cell_type": "code",
   "execution_count": 23,
   "id": "d02a7f45",
   "metadata": {},
   "outputs": [
    {
     "name": "stdout",
     "output_type": "stream",
     "text": [
      "10\n",
      "20\n",
      "30\n",
      "40\n",
      "50\n",
      "60\n",
      "70\n",
      "80\n",
      "90\n",
      "100\n"
     ]
    }
   ],
   "source": [
    "n = 100\n",
    "for i in range(1, n+1):\n",
    "    if (i%10 == 0):\n",
    "        print(i)"
   ]
  },
  {
   "cell_type": "code",
   "execution_count": 24,
   "id": "52d3ffdb",
   "metadata": {},
   "outputs": [
    {
     "name": "stdout",
     "output_type": "stream",
     "text": [
      "-10\n",
      "-8\n",
      "-6\n",
      "-4\n",
      "-2\n",
      "0\n",
      "2\n",
      "4\n",
      "6\n",
      "8\n"
     ]
    }
   ],
   "source": [
    "for i in range(-10, 10):\n",
    "    if (i%2 == 0):\n",
    "        print(i)"
   ]
  },
  {
   "cell_type": "code",
   "execution_count": 30,
   "id": "20303e3f",
   "metadata": {},
   "outputs": [
    {
     "name": "stdout",
     "output_type": "stream",
     "text": [
      "[254, 2, 4, 6, 8, 10, 12, 14, 16, 18, 20, 22, 24, 26, 28, 30, 32, 34, 36, 38, 40, 42, 44, 46, 48, 50, 52, 54, 56, 58, 60, 62, 64, 66, 68, 70, 72, 74, 76, 78, 80, 82, 84, 86, 88, 90, 92, 94, 96, 98, 100, 102, 104, 106, 108, 110, 112, 114, 116, 118, 120, 122, 124, 126, 128, 130, 132, 134, 136, 138, 140, 142, 144, 146, 148, 150, 152, 154, 156, 158, 160, 162, 164, 166, 168, 170, 172, 174, 176, 178, 180, 182, 184, 186, 188, 190, 192, 194, 196, 198, 200, 202, 204, 206, 208, 210, 212, 214, 216, 218, 220, 222, 224, 226, 228, 230, 232, 234, 236, 238, 240, 242, 244, 246, 248, 250, 252, 254, 256]\n"
     ]
    }
   ],
   "source": [
    "for i in range(1, 257):\n",
    "    if (i%2 == 0):\n",
    "        mylist += [i]\n",
    "print(mylist)"
   ]
  },
  {
   "cell_type": "code",
   "execution_count": 1,
   "id": "3dc15fdd",
   "metadata": {},
   "outputs": [
    {
     "name": "stdout",
     "output_type": "stream",
     "text": [
      "20\n"
     ]
    }
   ],
   "source": [
    "import random\n",
    "\n",
    "def my_choice(data):\n",
    "    \"\"\"Return a random element from a non-empty sequence using randrange.\"\"\"\n",
    "    if not data:  # Check if the sequence is empty\n",
    "        raise IndexError(\"Cannot choose from an empty sequence\")\n",
    "    random_index = random.randrange(len(data))\n",
    "    return data[random_index]\n",
    "\n",
    "data = [10, 20, 30, 40, 50]\n",
    "print(my_choice(data))  # Output: Random element, e.g., 30"
   ]
  },
  {
   "cell_type": "code",
   "execution_count": 7,
   "id": "f1f44e73",
   "metadata": {},
   "outputs": [
    {
     "name": "stdout",
     "output_type": "stream",
     "text": [
      "1\n",
      "2\n",
      "5\n",
      "10\n"
     ]
    }
   ],
   "source": [
    "def factors(n):\n",
    "    large_factors = []\n",
    "    for i in range(1, int(n ** 0.5) + 1):\n",
    "        if n % i == 0:\n",
    "            yield i\n",
    "            if i != n // i:\n",
    "                large_factors.append(n // i)\n",
    "    for factor in reversed(large_factors):\n",
    "        yield factor\n",
    "\n",
    "gen = factors(10)\n",
    "for factor in gen:\n",
    "    print(factor)  # Output: 1, 2, 5, 10"
   ]
  }
 ],
 "metadata": {
  "kernelspec": {
   "display_name": "Python 3",
   "language": "python",
   "name": "python3"
  },
  "language_info": {
   "codemirror_mode": {
    "name": "ipython",
    "version": 3
   },
   "file_extension": ".py",
   "mimetype": "text/x-python",
   "name": "python",
   "nbconvert_exporter": "python",
   "pygments_lexer": "ipython3",
   "version": "3.13.2"
  }
 },
 "nbformat": 4,
 "nbformat_minor": 5
}
